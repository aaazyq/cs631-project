{
  "nbformat": 4,
  "nbformat_minor": 0,
  "metadata": {
    "colab": {
      "name": "keras_train_final.ipynb",
      "provenance": [],
      "collapsed_sections": []
    },
    "kernelspec": {
      "name": "python3",
      "display_name": "Python 3"
    },
    "language_info": {
      "name": "python"
    }
  },
  "cells": [
    {
      "cell_type": "code",
      "metadata": {
        "id": "xxzLj_0wf7UL"
      },
      "source": [
        "import keras\n",
        "from keras.preprocessing.sequence import pad_sequences\n",
        "from keras.models import Sequential, load_model\n",
        "from keras.layers import Dense, Dropout, Embedding, LSTM, SpatialDropout1D\n",
        "from keras.callbacks import ModelCheckpoint\n",
        "import os\n",
        "from sklearn.metrics import roc_auc_score\n",
        "import matplotlib.pyplot as plt\n",
        "import pandas as pd\n",
        "import numpy as np\n",
        "import re\n",
        "from keras.preprocessing.text import Tokenizer\n",
        "from sklearn.model_selection import train_test_split\n",
        "from keras.callbacks import ModelCheckpoint \n",
        "from keras import layers, regularizers"
      ],
      "execution_count": null,
      "outputs": []
    },
    {
      "cell_type": "code",
      "metadata": {
        "colab": {
          "base_uri": "https://localhost:8080/",
          "height": 200
        },
        "id": "_OHzeWODgAri",
        "outputId": "c9738c9d-da41-4ba1-8d49-0e41e7f6cb6c"
      },
      "source": [
        "data = pd.read_csv(\"data_cleaned_shuffled.csv\", sep=',')\n",
        "data['text_cleaned_string'] = data['text_cleaned_string'].astype('str')\n",
        "data.head()"
      ],
      "execution_count": null,
      "outputs": [
        {
          "output_type": "execute_result",
          "data": {
            "text/html": [
              "<div>\n",
              "<style scoped>\n",
              "    .dataframe tbody tr th:only-of-type {\n",
              "        vertical-align: middle;\n",
              "    }\n",
              "\n",
              "    .dataframe tbody tr th {\n",
              "        vertical-align: top;\n",
              "    }\n",
              "\n",
              "    .dataframe thead th {\n",
              "        text-align: right;\n",
              "    }\n",
              "</style>\n",
              "<table border=\"1\" class=\"dataframe\">\n",
              "  <thead>\n",
              "    <tr style=\"text-align: right;\">\n",
              "      <th></th>\n",
              "      <th>category</th>\n",
              "      <th>text_cleaned_string</th>\n",
              "    </tr>\n",
              "  </thead>\n",
              "  <tbody>\n",
              "    <tr>\n",
              "      <th>0</th>\n",
              "      <td>negative</td>\n",
              "      <td>involuntarily bumped passenger cant guarantee ...</td>\n",
              "    </tr>\n",
              "    <tr>\n",
              "      <th>1</th>\n",
              "      <td>neutral</td>\n",
              "      <td>yeah suppose</td>\n",
              "    </tr>\n",
              "    <tr>\n",
              "      <th>2</th>\n",
              "      <td>negative</td>\n",
              "      <td>ick yo autocorrect ruse</td>\n",
              "    </tr>\n",
              "    <tr>\n",
              "      <th>3</th>\n",
              "      <td>positive</td>\n",
              "      <td>ill drinks anybody pull boy named sue johnnie ...</td>\n",
              "    </tr>\n",
              "    <tr>\n",
              "      <th>4</th>\n",
              "      <td>neutral</td>\n",
              "      <td>warned consuela gets quincenera emoji tasha be...</td>\n",
              "    </tr>\n",
              "  </tbody>\n",
              "</table>\n",
              "</div>"
            ],
            "text/plain": [
              "   category                                text_cleaned_string\n",
              "0  negative  involuntarily bumped passenger cant guarantee ...\n",
              "1   neutral                                       yeah suppose\n",
              "2  negative                            ick yo autocorrect ruse\n",
              "3  positive  ill drinks anybody pull boy named sue johnnie ...\n",
              "4   neutral  warned consuela gets quincenera emoji tasha be..."
            ]
          },
          "metadata": {
            "tags": []
          },
          "execution_count": 5
        }
      ]
    },
    {
      "cell_type": "code",
      "metadata": {
        "colab": {
          "base_uri": "https://localhost:8080/"
        },
        "id": "mFE732w2gJ5Y",
        "outputId": "7ad089c4-f92b-4143-c58a-7b9e7a8d235e"
      },
      "source": [
        "# clean the data\n",
        "import re\n",
        "\n",
        "def clean(text):\n",
        "    text = re.sub(\"RT @[\\w]*:\", \"\", text)\n",
        "    text = re.sub(\"@[\\w]*\", \"\", text)\n",
        "    text = re.sub(\"https?://[A-Za-z0-9./]*\", \"\", text)\n",
        "    text = re.sub(\"\\n\", \"\", text)\n",
        "    text = re.sub(\"[^a-zA-z\\s]\", \"\",text)\n",
        "    return text.lower().split()\n",
        "\n",
        "from nltk.corpus import stopwords\n",
        "import nltk\n",
        "nltk.download('stopwords')\n",
        "def remove_stopwords(tokenized_sentence):\n",
        "    return [token for token in tokenized_sentence if token not in set(stopwords.words(\"english\"))]"
      ],
      "execution_count": null,
      "outputs": [
        {
          "output_type": "stream",
          "text": [
            "[nltk_data] Downloading package stopwords to /root/nltk_data...\n",
            "[nltk_data]   Unzipping corpora/stopwords.zip.\n"
          ],
          "name": "stdout"
        }
      ]
    },
    {
      "cell_type": "code",
      "metadata": {
        "id": "qEwzDRFugURm"
      },
      "source": [
        "max_fatures = 10000\n",
        "tokenizer = Tokenizer(num_words=max_fatures, split=\" \")\n",
        "tokenizer.fit_on_texts(data['text_cleaned_string'].values)"
      ],
      "execution_count": null,
      "outputs": []
    },
    {
      "cell_type": "code",
      "metadata": {
        "colab": {
          "base_uri": "https://localhost:8080/"
        },
        "id": "JxWfL98agxIP",
        "outputId": "3a82a63e-78c5-477f-be44-3f4f3fc19e96"
      },
      "source": [
        "word_index = tokenizer.word_index\n",
        "word_count = len(word_index)\n",
        "print('total word count: ', word_count)"
      ],
      "execution_count": null,
      "outputs": [
        {
          "output_type": "stream",
          "text": [
            "total word count:  42661\n"
          ],
          "name": "stdout"
        }
      ]
    },
    {
      "cell_type": "code",
      "metadata": {
        "id": "G6M0xXXug5dc"
      },
      "source": [
        "X = tokenizer.texts_to_sequences(data['text_cleaned_string'].values)\n",
        "X = pad_sequences(X, maxlen = 32) \n",
        "\n",
        "Y = pd.get_dummies(data['category']).values\n",
        "X_train_total, X_test, Y_train_total, Y_test = train_test_split(X, Y, test_size = 0.05, random_state = 42)"
      ],
      "execution_count": null,
      "outputs": []
    },
    {
      "cell_type": "code",
      "metadata": {
        "colab": {
          "base_uri": "https://localhost:8080/"
        },
        "id": "w_NTDLcxg-uk",
        "outputId": "53fe1045-f673-466e-b4dc-56d0a43dacc4"
      },
      "source": [
        "# simple LSTM\n",
        "\n",
        "embed_dim = 128\n",
        "lstm_out = 196\n",
        "\n",
        "model = Sequential()\n",
        "model.add(Embedding(max_fatures, embed_dim,input_length = 32))\n",
        "model.add(Dropout(0.5))\n",
        "model.add(LSTM(lstm_out, dropout=0.5, recurrent_dropout=0.2))\n",
        "model.add(Dense(3,activation='softmax'))\n",
        "model.compile(loss = 'categorical_crossentropy', optimizer='adam',metrics = ['accuracy'])\n",
        "save_best_model = ModelCheckpoint('best_model_total.h5', monitor='val_accuracy', mode='max', save_best_only=True, verbose=1)\n",
        "print(model.summary())\n",
        "\n",
        "batch_size = 1024 \n",
        "history = model.fit(X_train_total, \n",
        "            Y_train_total,\n",
        "            epochs = 10, \n",
        "            batch_size=batch_size, \n",
        "            validation_data=(X_test, Y_test), \n",
        "            callbacks=[save_best_model]) "
      ],
      "execution_count": null,
      "outputs": [
        {
          "output_type": "stream",
          "text": [
            "Model: \"sequential_1\"\n",
            "_________________________________________________________________\n",
            "Layer (type)                 Output Shape              Param #   \n",
            "=================================================================\n",
            "embedding_1 (Embedding)      (None, 32, 128)           1280000   \n",
            "_________________________________________________________________\n",
            "dropout_1 (Dropout)          (None, 32, 128)           0         \n",
            "_________________________________________________________________\n",
            "lstm_1 (LSTM)                (None, 196)               254800    \n",
            "_________________________________________________________________\n",
            "dense_1 (Dense)              (None, 3)                 591       \n",
            "=================================================================\n",
            "Total params: 1,535,391\n",
            "Trainable params: 1,535,391\n",
            "Non-trainable params: 0\n",
            "_________________________________________________________________\n",
            "None\n",
            "Epoch 1/10\n",
            "56/56 [==============================] - 83s 1s/step - loss: 1.0522 - accuracy: 0.4318 - val_loss: 0.8151 - val_accuracy: 0.6437\n",
            "\n",
            "Epoch 00001: val_accuracy improved from -inf to 0.64371, saving model to best_model_total.h5\n",
            "Epoch 2/10\n",
            "56/56 [==============================] - 84s 2s/step - loss: 0.7756 - accuracy: 0.6593 - val_loss: 0.7160 - val_accuracy: 0.6976\n",
            "\n",
            "Epoch 00002: val_accuracy improved from 0.64371 to 0.69760, saving model to best_model_total.h5\n",
            "Epoch 3/10\n",
            "56/56 [==============================] - 84s 2s/step - loss: 0.6818 - accuracy: 0.7129 - val_loss: 0.7010 - val_accuracy: 0.7043\n",
            "\n",
            "Epoch 00003: val_accuracy improved from 0.69760 to 0.70426, saving model to best_model_total.h5\n",
            "Epoch 4/10\n",
            "56/56 [==============================] - 84s 2s/step - loss: 0.6399 - accuracy: 0.7366 - val_loss: 0.6989 - val_accuracy: 0.7096\n",
            "\n",
            "Epoch 00004: val_accuracy improved from 0.70426 to 0.70958, saving model to best_model_total.h5\n",
            "Epoch 5/10\n",
            "56/56 [==============================] - 84s 2s/step - loss: 0.6061 - accuracy: 0.7515 - val_loss: 0.7046 - val_accuracy: 0.7069\n",
            "\n",
            "Epoch 00005: val_accuracy did not improve from 0.70958\n",
            "Epoch 6/10\n",
            "56/56 [==============================] - 84s 1s/step - loss: 0.5901 - accuracy: 0.7574 - val_loss: 0.7239 - val_accuracy: 0.6876\n",
            "\n",
            "Epoch 00006: val_accuracy did not improve from 0.70958\n",
            "Epoch 7/10\n",
            "56/56 [==============================] - 84s 1s/step - loss: 0.5741 - accuracy: 0.7657 - val_loss: 0.7193 - val_accuracy: 0.6976\n",
            "\n",
            "Epoch 00007: val_accuracy did not improve from 0.70958\n",
            "Epoch 8/10\n",
            "56/56 [==============================] - 84s 2s/step - loss: 0.5627 - accuracy: 0.7735 - val_loss: 0.7326 - val_accuracy: 0.6979\n",
            "\n",
            "Epoch 00008: val_accuracy did not improve from 0.70958\n",
            "Epoch 9/10\n",
            "56/56 [==============================] - 83s 1s/step - loss: 0.5412 - accuracy: 0.7800 - val_loss: 0.7389 - val_accuracy: 0.6993\n",
            "\n",
            "Epoch 00009: val_accuracy did not improve from 0.70958\n",
            "Epoch 10/10\n",
            "56/56 [==============================] - 84s 2s/step - loss: 0.5379 - accuracy: 0.7822 - val_loss: 0.7458 - val_accuracy: 0.6963\n",
            "\n",
            "Epoch 00010: val_accuracy did not improve from 0.70958\n"
          ],
          "name": "stdout"
        }
      ]
    },
    {
      "cell_type": "code",
      "metadata": {
        "colab": {
          "base_uri": "https://localhost:8080/"
        },
        "id": "iYw0mxbMhQZx",
        "outputId": "adc9ec71-96e2-43e7-f3ac-2c657d4f31fd"
      },
      "source": [
        "# Bi-LSTM\n",
        "model2 = Sequential()\n",
        "model2.add(layers.Embedding(max_fatures, embed_dim,input_length = 32))\n",
        "model2.add(layers.Bidirectional(layers.LSTM(20,dropout=0.6,recurrent_dropout=0.2)))\n",
        "model2.add(layers.Dense(3,activation='softmax'))\n",
        "model2.compile(optimizer='rmsprop',loss='categorical_crossentropy', metrics=['accuracy'])\n",
        "checkpoint2 = ModelCheckpoint(\"best_model_bilstm.h5\", monitor='val_accuracy', verbose=1,save_best_only=True)\n",
        "history2 = model2.fit(X_train_total, \n",
        "            Y_train_total, \n",
        "            epochs = 10, \n",
        "            batch_size=batch_size, \n",
        "            validation_data=(X_test, Y_test), \n",
        "            callbacks=[checkpoint2]) "
      ],
      "execution_count": null,
      "outputs": [
        {
          "output_type": "stream",
          "text": [
            "Epoch 1/10\n",
            "56/56 [==============================] - 46s 744ms/step - loss: 1.0488 - accuracy: 0.4716 - val_loss: 0.8774 - val_accuracy: 0.6430\n",
            "\n",
            "Epoch 00001: val_accuracy improved from -inf to 0.64305, saving model to best_model_bilstm.h5\n",
            "Epoch 2/10\n",
            "56/56 [==============================] - 41s 732ms/step - loss: 0.8294 - accuracy: 0.6535 - val_loss: 0.7486 - val_accuracy: 0.6956\n",
            "\n",
            "Epoch 00002: val_accuracy improved from 0.64305 to 0.69561, saving model to best_model_bilstm.h5\n",
            "Epoch 3/10\n",
            "56/56 [==============================] - 41s 731ms/step - loss: 0.7121 - accuracy: 0.7096 - val_loss: 0.7131 - val_accuracy: 0.7039\n",
            "\n",
            "Epoch 00003: val_accuracy improved from 0.69561 to 0.70393, saving model to best_model_bilstm.h5\n",
            "Epoch 4/10\n",
            "56/56 [==============================] - 41s 731ms/step - loss: 0.6612 - accuracy: 0.7276 - val_loss: 0.6987 - val_accuracy: 0.7112\n",
            "\n",
            "Epoch 00004: val_accuracy improved from 0.70393 to 0.71124, saving model to best_model_bilstm.h5\n",
            "Epoch 5/10\n",
            "56/56 [==============================] - 41s 733ms/step - loss: 0.6325 - accuracy: 0.7442 - val_loss: 0.7083 - val_accuracy: 0.7056\n",
            "\n",
            "Epoch 00005: val_accuracy did not improve from 0.71124\n",
            "Epoch 6/10\n",
            "56/56 [==============================] - 41s 730ms/step - loss: 0.6090 - accuracy: 0.7544 - val_loss: 0.7193 - val_accuracy: 0.7049\n",
            "\n",
            "Epoch 00006: val_accuracy did not improve from 0.71124\n",
            "Epoch 7/10\n",
            "56/56 [==============================] - 41s 731ms/step - loss: 0.5865 - accuracy: 0.7642 - val_loss: 0.7189 - val_accuracy: 0.7096\n",
            "\n",
            "Epoch 00007: val_accuracy did not improve from 0.71124\n",
            "Epoch 8/10\n",
            "56/56 [==============================] - 41s 730ms/step - loss: 0.5819 - accuracy: 0.7670 - val_loss: 0.7169 - val_accuracy: 0.7046\n",
            "\n",
            "Epoch 00008: val_accuracy did not improve from 0.71124\n",
            "Epoch 9/10\n",
            "56/56 [==============================] - 41s 734ms/step - loss: 0.5668 - accuracy: 0.7730 - val_loss: 0.7346 - val_accuracy: 0.6976\n",
            "\n",
            "Epoch 00009: val_accuracy did not improve from 0.71124\n",
            "Epoch 10/10\n",
            "56/56 [==============================] - 41s 730ms/step - loss: 0.5581 - accuracy: 0.7795 - val_loss: 0.7389 - val_accuracy: 0.6913\n",
            "\n",
            "Epoch 00010: val_accuracy did not improve from 0.71124\n"
          ],
          "name": "stdout"
        }
      ]
    },
    {
      "cell_type": "code",
      "metadata": {
        "colab": {
          "base_uri": "https://localhost:8080/"
        },
        "id": "t0ufS7vTm8Wr",
        "outputId": "e9c4b1c7-6470-43d8-a138-c7d1a9235a24"
      },
      "source": [
        "# CNN - better use GPU\n",
        "\n",
        "from keras import layers, regularizers\n",
        "from keras.layers import Dense, Input, Flatten\n",
        "from keras.layers import Conv1D, MaxPooling1D, Embedding, Dropout\n",
        "from keras.models import Model\n",
        "embed_dim = 128\n",
        "lstm_out = 196\n",
        "\n",
        "# have to create a longer sequence for cnn training\n",
        "X1000 = tokenizer.texts_to_sequences(data['text_cleaned_string'].values)\n",
        "X1000 = pad_sequences(X1000, maxlen = 1000) \n",
        "Y = pd.get_dummies(data['category']).values\n",
        "X_train_total1000, X_test1000, Y_train_total1000, Y_test1000 = train_test_split(X1000, Y, test_size = 0.05, random_state = 42)\n",
        "\n",
        "embedding_layer = Embedding(word_count + 1, 256, input_length=1000) \n",
        "sequence_input = Input(shape=(1000,), dtype='int32')\n",
        "embedded_sequences = embedding_layer(sequence_input)\n",
        "l_cov1= Conv1D(128, 5, activation='relu')(embedded_sequences)\n",
        "l_pool1 = MaxPooling1D(5)(l_cov1)\n",
        "l_cov2 = Conv1D(128, 5, activation='relu')(l_pool1)\n",
        "l_pool2 = MaxPooling1D(5)(l_cov2)\n",
        "l_cov3 = Conv1D(128, 5, activation='relu')(l_pool2)\n",
        "l_pool3 = MaxPooling1D(35)(l_cov3)  # global max pooling\n",
        "l_flat = Flatten()(l_pool3)\n",
        "l_dense = Dense(128, activation='relu')(l_flat)\n",
        "preds = Dense(3, activation='softmax')(l_dense) \n",
        " \n",
        "model3 = Model(sequence_input, preds)\n",
        "model3.compile(loss='categorical_crossentropy',\n",
        "              optimizer='rmsprop',\n",
        "              metrics=['acc'])\n",
        "\n",
        "checkpoint3 = ModelCheckpoint(\"best_model_cnn.h5\", monitor='val_acc', verbose=1,save_best_only=True)\n",
        "history3 = model3.fit(X_train_total1000, \n",
        "            Y_train_total1000, \n",
        "            epochs = 10, \n",
        "            batch_size=1024, \n",
        "            validation_data=(X_test1000, Y_test1000), \n",
        "            callbacks=[checkpoint3]) "
      ],
      "execution_count": null,
      "outputs": [
        {
          "output_type": "stream",
          "text": [
            "Epoch 1/10\n",
            "56/56 [==============================] - 841s 15s/step - loss: 1.0390 - acc: 0.4261 - val_loss: 0.8416 - val_acc: 0.6134\n",
            "\n",
            "Epoch 00001: val_acc improved from -inf to 0.61344, saving model to best_model_cnn.h5\n",
            "Epoch 2/10\n",
            "56/56 [==============================] - 838s 15s/step - loss: 0.8006 - acc: 0.6382 - val_loss: 0.7987 - val_acc: 0.6457\n",
            "\n",
            "Epoch 00002: val_acc improved from 0.61344 to 0.64571, saving model to best_model_cnn.h5\n",
            "Epoch 3/10\n",
            "56/56 [==============================] - 837s 15s/step - loss: 0.7235 - acc: 0.6900 - val_loss: 0.8161 - val_acc: 0.6351\n",
            "\n",
            "Epoch 00003: val_acc did not improve from 0.64571\n",
            "Epoch 4/10\n",
            "56/56 [==============================] - 838s 15s/step - loss: 0.6599 - acc: 0.7248 - val_loss: 0.8215 - val_acc: 0.6494\n",
            "\n",
            "Epoch 00004: val_acc improved from 0.64571 to 0.64937, saving model to best_model_cnn.h5\n",
            "Epoch 5/10\n",
            "56/56 [==============================] - 838s 15s/step - loss: 0.5782 - acc: 0.7653 - val_loss: 0.8893 - val_acc: 0.6347\n",
            "\n",
            "Epoch 00005: val_acc did not improve from 0.64937\n",
            "Epoch 6/10\n",
            "56/56 [==============================] - 837s 15s/step - loss: 0.5043 - acc: 0.8009 - val_loss: 0.9883 - val_acc: 0.6244\n",
            "\n",
            "Epoch 00006: val_acc did not improve from 0.64937\n",
            "Epoch 7/10\n",
            "56/56 [==============================] - 839s 15s/step - loss: 0.4181 - acc: 0.8393 - val_loss: 1.0680 - val_acc: 0.6294\n",
            "\n",
            "Epoch 00007: val_acc did not improve from 0.64937\n",
            "Epoch 8/10\n",
            "56/56 [==============================] - 838s 15s/step - loss: 0.3433 - acc: 0.8685 - val_loss: 1.2162 - val_acc: 0.6075\n",
            "\n",
            "Epoch 00008: val_acc did not improve from 0.64937\n",
            "Epoch 9/10\n",
            "56/56 [==============================] - 840s 15s/step - loss: 0.2865 - acc: 0.8894 - val_loss: 1.5137 - val_acc: 0.5842\n",
            "\n",
            "Epoch 00009: val_acc did not improve from 0.64937\n",
            "Epoch 10/10\n",
            "14/56 [======>.......................] - ETA: 10:23 - loss: 0.2420 - acc: 0.9065"
          ],
          "name": "stdout"
        }
      ]
    },
    {
      "cell_type": "code",
      "metadata": {
        "colab": {
          "base_uri": "https://localhost:8080/",
          "height": 295
        },
        "id": "6SDaiksRpHE1",
        "outputId": "b31648ec-3a0f-4f54-f74b-f8b9aaa3bb07"
      },
      "source": [
        "import matplotlib.pyplot as plt \n",
        "loss2 = history2.history['loss']\n",
        "val_loss2 = history2.history['val_loss']\n",
        "\n",
        "loss = history.history['loss']\n",
        "val_loss = history.history['val_loss']\n",
        "\n",
        "loss3 = history3.history['loss']\n",
        "val_loss3 = history3.history['val_loss']\n",
        "\n",
        "epochs = range(1, len(loss) + 1)\n",
        "plt.plot(epochs, loss3, 'bo', label='Training loss - BI LSTM', color='grey')\n",
        "plt.plot(epochs[:-1], val_loss3[:-1], 'b', label='Validation loss - BI LSTM', color='grey')\n",
        "plt.plot(epochs, loss, 'bo', label='Training loss - LSTM', color='darkred')\n",
        "plt.plot(epochs, val_loss, 'b', label='Validation loss - LSTM', color='darkred')\n",
        "plt.plot(epochs, loss2, 'bo', label='Training loss - BI LSTM', color='darkblue')\n",
        "plt.plot(epochs, val_loss2, 'b', label='Validation loss - BI LSTM', color='darkblue')\n",
        "plt.title('Training and validation loss')\n",
        "plt.xlabel('Epochs') \n",
        "plt.ylabel('Loss') \n",
        "plt.legend(loc='center left', bbox_to_anchor=(1, 0.5))\n",
        "plt.show()"
      ],
      "execution_count": 54,
      "outputs": [
        {
          "output_type": "display_data",
          "data": {
            "image/png": "[encoded data removed]",
            "text/plain": [
              "<Figure size 432x288 with 1 Axes>"
            ]
          },
          "metadata": {
            "tags": [],
            "needs_background": "light"
          }
        }
      ]
    },
    {
      "cell_type": "code",
      "metadata": {
        "colab": {
          "base_uri": "https://localhost:8080/",
          "height": 295
        },
        "id": "OynYwZS-pzeE",
        "outputId": "38020cd5-c58a-4b6b-c555-5a3a04532e0a"
      },
      "source": [
        "plt.clf()\n",
        "acc = history.history['accuracy']\n",
        "val_acc = history.history['val_accuracy']\n",
        "acc2 = history2.history['accuracy']\n",
        "val_acc2 = history2.history['val_accuracy']\n",
        "acc3 = history3.history['acc']\n",
        "val_acc3 = history3.history['val_acc']\n",
        "plt.plot(epochs, acc3, 'bo', label='Training acc - CNN ', color = 'grey')\n",
        "plt.plot(epochs, val_acc3, 'b', label='Validation acc - CNN', color = 'grey')\n",
        "plt.plot(epochs, acc, 'bo', label='Training acc - LSTM ', color = 'darkred')\n",
        "plt.plot(epochs, val_acc, 'b', label='Validation acc - LSTM', color = 'darkred')\n",
        "plt.plot(epochs, acc2, 'bo', label='Training acc - BI LSTM', color = 'darkblue')\n",
        "plt.plot(epochs, val_acc2, 'b', label='Validation acc - BI LSTM', color = 'darkblue')\n",
        "plt.title('Training and validation accuracy')\n",
        "plt.xlabel('Epochs')\n",
        "plt.ylabel('Accuracy')\n",
        "plt.legend(loc='center left', bbox_to_anchor=(1, 0.5))\n",
        "plt.show() "
      ],
      "execution_count": 49,
      "outputs": [
        {
          "output_type": "display_data",
          "data": {
            "image/png": "[encoded data removed]",
            "text/plain": [
              "<Figure size 432x288 with 1 Axes>"
            ]
          },
          "metadata": {
            "tags": [],
            "needs_background": "light"
          }
        }
      ]
    },
    {
      "cell_type": "code",
      "metadata": {
        "colab": {
          "base_uri": "https://localhost:8080/",
          "height": 301
        },
        "id": "FoN8Uqz5qySS",
        "outputId": "317da1e7-747b-4aea-b42e-7e6986c1c695"
      },
      "source": [
        "import sklearn \n",
        "import seaborn as sn\n",
        "import pandas as pd\n",
        "import matplotlib.pyplot as plt\n",
        "\n",
        "saved_model2 = load_model('best_model_bilstm.h5')\n",
        "y_pred2 = saved_model2.predict(X_test) \n",
        "saved_model2.evaluate(X_test, Y_test, verbose=1)\n",
        "y_pred_label2= np.argmax(y_pred2, axis = 1)\n",
        "\n",
        "confusion_m2 = sklearn.metrics.confusion_matrix(np.argmax(Y_test, axis = 1), y_pred_label2)\n",
        "\n",
        "df_cm2 = pd.DataFrame(confusion_m2) \n",
        "df_cm2.columns = [\"negative\", \"neutral\", \"positive\"] \n",
        "sn.heatmap(df_cm2, annot=True, fmt='.20g', cmap=plt.cm.Blues) "
      ],
      "execution_count": null,
      "outputs": [
        {
          "output_type": "stream",
          "text": [
            "94/94 [==============================] - 1s 7ms/step - loss: 0.6987 - accuracy: 0.7112\n"
          ],
          "name": "stdout"
        },
        {
          "output_type": "execute_result",
          "data": {
            "text/plain": [
              "<matplotlib.axes._subplots.AxesSubplot at 0x7f7749c73b90>"
            ]
          },
          "metadata": {
            "tags": []
          },
          "execution_count": 25
        },
        {
          "output_type": "display_data",
          "data": {
            "image/png": "[encoded data removed]",
            "text/plain": [
              "<Figure size 432x288 with 2 Axes>"
            ]
          },
          "metadata": {
            "tags": [],
            "needs_background": "light"
          }
        }
      ]
    }
  ]
}